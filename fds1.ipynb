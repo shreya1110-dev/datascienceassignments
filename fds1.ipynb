{
  "nbformat": 4,
  "nbformat_minor": 0,
  "metadata": {
    "colab": {
      "name": "fds1.ipynb",
      "provenance": [],
      "authorship_tag": "ABX9TyN+kfHAHAMzAhxrj0L9Mnr3",
      "include_colab_link": true
    },
    "kernelspec": {
      "name": "python3",
      "display_name": "Python 3"
    },
    "language_info": {
      "name": "python"
    }
  },
  "cells": [
    {
      "cell_type": "markdown",
      "metadata": {
        "id": "view-in-github",
        "colab_type": "text"
      },
      "source": [
        "<a href=\"https://colab.research.google.com/github/shreya1110-dev/datascienceassignments/blob/main/fds1.ipynb\" target=\"_parent\"><img src=\"https://colab.research.google.com/assets/colab-badge.svg\" alt=\"Open In Colab\"/></a>"
      ]
    },
    {
      "cell_type": "markdown",
      "source": [
        ""
      ],
      "metadata": {
        "id": "R3eY0SQ8ACpi"
      }
    },
    {
      "cell_type": "markdown",
      "source": [
        "\n",
        "1. Make use of python Pandas library to get the minimum, 25th percentile, median,\n",
        "75th, and max of a numeric series?\n",
        "Compute the minimum, 25th percentile, median, 75th, and maximum of ser.\n",
        "\n"
      ],
      "metadata": {
        "id": "jjSlDJhz_5t9"
      }
    },
    {
      "cell_type": "code",
      "source": [
        "import pandas as pd\n",
        "import numpy as np"
      ],
      "metadata": {
        "id": "2uN28D5nAZ2x"
      },
      "execution_count": null,
      "outputs": []
    },
    {
      "cell_type": "code",
      "execution_count": null,
      "metadata": {
        "id": "LNpHNNadz9wA"
      },
      "outputs": [],
      "source": [
        "# input series\n",
        "ser = pd.Series(np.random.normal(10, 5, 25))"
      ]
    },
    {
      "cell_type": "code",
      "source": [
        "# 25th percentile\n",
        "print(\"25th percentile: \",ser.quantile(.25))\n",
        "# median\n",
        "print(\"Median: \", ser.median())\n",
        "# 75th percentile\n",
        "print(\"75th percentile: \",ser.quantile(.75))\n",
        "# max of ser\n",
        "print(\"Maximum value: \", max(ser))"
      ],
      "metadata": {
        "colab": {
          "base_uri": "https://localhost:8080/"
        },
        "id": "XLrtF80VAYeT",
        "outputId": "dd3c5995-4a26-4b11-8000-8063cd8a4171"
      },
      "execution_count": null,
      "outputs": [
        {
          "output_type": "stream",
          "name": "stdout",
          "text": [
            "25th percentile:  7.023911995515109\n",
            "Median:  10.695669973582323\n",
            "75th percentile:  11.866767471047318\n",
            "Maximum value:  17.45223474565785\n"
          ]
        }
      ]
    },
    {
      "cell_type": "markdown",
      "source": [
        "2. Make use of python Pandas library to get frequency counts of unique items of a series? "
      ],
      "metadata": {
        "id": "2hyAf5fACVpr"
      }
    },
    {
      "cell_type": "code",
      "source": [
        "ser = pd.Series(np.take(list('abcdefgh'), np.random.randint(8, size=30)))"
      ],
      "metadata": {
        "id": "uy1IU1ZxC7ys"
      },
      "execution_count": null,
      "outputs": []
    },
    {
      "cell_type": "code",
      "source": [
        "# frequency of unique values\n",
        "ser.value_counts()"
      ],
      "metadata": {
        "colab": {
          "base_uri": "https://localhost:8080/"
        },
        "id": "lww1V79bCUgZ",
        "outputId": "ea9f709c-a556-4444-a5cd-b82bc6f9443f"
      },
      "execution_count": null,
      "outputs": [
        {
          "output_type": "execute_result",
          "data": {
            "text/plain": [
              "3    10\n",
              "8     7\n",
              "9     5\n",
              "2     4\n",
              "7     3\n",
              "5     2\n",
              "4     2\n",
              "6     1\n",
              "1     1\n",
              "dtype: int64"
            ]
          },
          "metadata": {},
          "execution_count": 80
        }
      ]
    },
    {
      "cell_type": "markdown",
      "source": [
        "3. Make use of Python Numpy library to convert a numpy array to a dataframe of given shape?\n",
        "Reshape the series ser into a dataframe with 7 rows and 5 columns"
      ],
      "metadata": {
        "id": "QUA0agJPDbtL"
      }
    },
    {
      "cell_type": "code",
      "source": [
        "ser = pd.Series(np.random.randint(1, 10, 35))\n",
        "ser.values"
      ],
      "metadata": {
        "colab": {
          "base_uri": "https://localhost:8080/"
        },
        "id": "nM24RP6bCUja",
        "outputId": "1227a85a-7250-4794-9547-20913c042292"
      },
      "execution_count": null,
      "outputs": [
        {
          "output_type": "execute_result",
          "data": {
            "text/plain": [
              "array([5, 2, 9, 3, 8, 7, 8, 9, 3, 8, 7, 9, 3, 8, 2, 4, 3, 4, 2, 9, 6, 3,\n",
              "       9, 7, 8, 8, 3, 3, 1, 3, 2, 3, 5, 8, 3])"
            ]
          },
          "metadata": {},
          "execution_count": 68
        }
      ]
    },
    {
      "cell_type": "code",
      "source": [
        "arr = ser.values"
      ],
      "metadata": {
        "id": "mEcZX9_fEs68"
      },
      "execution_count": null,
      "outputs": []
    },
    {
      "cell_type": "code",
      "source": [
        "arr.reshape((7,5))"
      ],
      "metadata": {
        "colab": {
          "base_uri": "https://localhost:8080/"
        },
        "id": "V_fEat0ZCUnG",
        "outputId": "4f3e4b16-2e41-4c73-b556-ee44624dd58a"
      },
      "execution_count": null,
      "outputs": [
        {
          "output_type": "execute_result",
          "data": {
            "text/plain": [
              "array([[5, 2, 9, 3, 8],\n",
              "       [7, 8, 9, 3, 8],\n",
              "       [7, 9, 3, 8, 2],\n",
              "       [4, 3, 4, 2, 9],\n",
              "       [6, 3, 9, 7, 8],\n",
              "       [8, 3, 3, 1, 3],\n",
              "       [2, 3, 5, 8, 3]])"
            ]
          },
          "metadata": {},
          "execution_count": 70
        }
      ]
    },
    {
      "cell_type": "markdown",
      "source": [
        "4. Build a python program to compute the mean squared error on a truth and predicted\n",
        "series? Compute the mean squared error of truth and pred series."
      ],
      "metadata": {
        "id": "XDYF8NICE7GW"
      }
    },
    {
      "cell_type": "code",
      "source": [
        "truth = pd.Series(range(10))\n",
        "pred = pd.Series(range(10)) + np.random.random(10)"
      ],
      "metadata": {
        "id": "82Gydfi8E1_B"
      },
      "execution_count": null,
      "outputs": []
    },
    {
      "cell_type": "code",
      "source": [
        "print(\"Truth:\", truth)\n",
        "print(\"Prediction:\", pred)"
      ],
      "metadata": {
        "colab": {
          "base_uri": "https://localhost:8080/"
        },
        "id": "cAjmMEkhcXsW",
        "outputId": "5d738a6a-0dd9-4f3a-8d47-ccd8eb5801dc"
      },
      "execution_count": null,
      "outputs": [
        {
          "output_type": "stream",
          "name": "stdout",
          "text": [
            "Truth: 0    0\n",
            "1    1\n",
            "2    2\n",
            "3    3\n",
            "4    4\n",
            "5    5\n",
            "6    6\n",
            "7    7\n",
            "8    8\n",
            "9    9\n",
            "dtype: int64\n",
            "Prediction: 0    0.327497\n",
            "1    1.422329\n",
            "2    2.789605\n",
            "3    3.273622\n",
            "4    4.414406\n",
            "5    5.925983\n",
            "6    6.775897\n",
            "7    7.849133\n",
            "8    8.394019\n",
            "9    9.302622\n",
            "dtype: float64\n"
          ]
        }
      ]
    },
    {
      "cell_type": "code",
      "source": [
        "# variable to store the summation of differences\n",
        "summation = 0  \n",
        "# finding total number of items in list\n",
        "n = len(truth) \n",
        "# looping through each element of the list\n",
        "for i in range (0,n):  \n",
        "  # finding the difference between observed and predicted value\n",
        "  difference = truth[i] - pred[i]  \n",
        "  # square of the difference \n",
        "  squared_difference = difference**2  \n",
        "  # sum of all the differences\n",
        "  summation = summation + squared_difference  \n",
        "# dividing summation by total values to obtain average\n",
        "MSE = summation/n  \n",
        "print(\"The Mean Square Error is: \" , MSE)"
      ],
      "metadata": {
        "colab": {
          "base_uri": "https://localhost:8080/"
        },
        "id": "jntTQs6JcSGy",
        "outputId": "c4d676d4-f457-4633-bada-a7417840ddfc"
      },
      "execution_count": null,
      "outputs": [
        {
          "output_type": "stream",
          "name": "stdout",
          "text": [
            "The Mean Square Error is:  0.3583013934974719\n"
          ]
        }
      ]
    },
    {
      "cell_type": "markdown",
      "source": [
        "5. Build a NumPy program to create a 3x3 matrix with values ranging from 2 to 10"
      ],
      "metadata": {
        "id": "1EWgKlSPdRhV"
      }
    },
    {
      "cell_type": "code",
      "source": [
        "x =  np.arange(2, 11).reshape(3,3)\n",
        "x"
      ],
      "metadata": {
        "colab": {
          "base_uri": "https://localhost:8080/"
        },
        "id": "IBgD0EnTdVJB",
        "outputId": "241c9ec4-1363-4b96-9b9a-d025251fe2bb"
      },
      "execution_count": null,
      "outputs": [
        {
          "output_type": "execute_result",
          "data": {
            "text/plain": [
              "array([[ 2,  3,  4],\n",
              "       [ 5,  6,  7],\n",
              "       [ 8,  9, 10]])"
            ]
          },
          "metadata": {},
          "execution_count": 74
        }
      ]
    },
    {
      "cell_type": "markdown",
      "source": [
        "6. Build a NumPy program to find the real and imaginary parts of an array of complex numbers. "
      ],
      "metadata": {
        "id": "tUJDjAMudpyA"
      }
    },
    {
      "cell_type": "code",
      "source": [
        "arr = np.array([1.00000000+0.j, 0.70710678+0.70710678j])\n",
        "real = []\n",
        "imaginary = []\n",
        "for num in arr:\n",
        "  real.append(num.real)\n",
        "  imaginary.append(num.imag)\n",
        "print(\"Real:\", real)\n",
        "print(\"Imaginary:\", imaginary)"
      ],
      "metadata": {
        "colab": {
          "base_uri": "https://localhost:8080/"
        },
        "id": "NWB6_xa1dovk",
        "outputId": "7e87d7c5-11c0-4e8e-902c-45f5c80ad655"
      },
      "execution_count": null,
      "outputs": [
        {
          "output_type": "stream",
          "name": "stdout",
          "text": [
            "Real: [1.0, 0.70710678]\n",
            "Imaginary: [0.0, 0.70710678]\n"
          ]
        }
      ]
    },
    {
      "cell_type": "markdown",
      "source": [
        "Build a NumPy program to normalize a 3x3 random matrix. "
      ],
      "metadata": {
        "id": "Nvhi578ie-xN"
      }
    },
    {
      "cell_type": "code",
      "source": [
        "x= np.random.random((3,3))\n",
        "print(\"Original Array:\")\n",
        "print(x)\n",
        "xmax, xmin = x.max(), x.min()\n",
        "x = (x - xmin)/(xmax - xmin)\n",
        "print(\"After normalization:\")\n",
        "print(x)"
      ],
      "metadata": {
        "colab": {
          "base_uri": "https://localhost:8080/"
        },
        "id": "M0Q53s2Te96q",
        "outputId": "5946e729-e58e-4a1f-f86e-8ad55621b5a4"
      },
      "execution_count": null,
      "outputs": [
        {
          "output_type": "stream",
          "name": "stdout",
          "text": [
            "Original Array:\n",
            "[[0.87615285 0.73302225 0.805261  ]\n",
            " [0.28193365 0.26046587 0.68748735]\n",
            " [0.76258111 0.97979534 0.15980793]]\n",
            "After normalization:\n",
            "[[0.87360478 0.69905259 0.78714998]\n",
            " [0.14893609 0.12275547 0.64352136]\n",
            " [0.73510053 1.         0.        ]]\n"
          ]
        }
      ]
    },
    {
      "cell_type": "markdown",
      "source": [
        "8. Build a NumPy program to create a random vector of size 10 and sort it."
      ],
      "metadata": {
        "id": "3YzvBPbsfka4"
      }
    },
    {
      "cell_type": "code",
      "source": [
        "arr = np.random.rand(10)\n",
        "print(\"Random Array:\",arr)\n",
        "arr.sort()\n",
        "print(\"Sorted Array:\",arr)"
      ],
      "metadata": {
        "colab": {
          "base_uri": "https://localhost:8080/"
        },
        "id": "DWAcpXGDfjl3",
        "outputId": "ae973cda-054f-4b29-d60b-18deced90a11"
      },
      "execution_count": null,
      "outputs": [
        {
          "output_type": "stream",
          "name": "stdout",
          "text": [
            "Random Array: [0.01950065 0.5125741  0.64319711 0.24274556 0.79145738 0.79067625\n",
            " 0.04927324 0.80998364 0.48460315 0.32706258]\n",
            "Sorted Array: [0.01950065 0.04927324 0.24274556 0.32706258 0.48460315 0.5125741\n",
            " 0.64319711 0.79067625 0.79145738 0.80998364]\n"
          ]
        }
      ]
    },
    {
      "cell_type": "markdown",
      "source": [
        "9. Build a NumPy program to check two random arrays are equal or not."
      ],
      "metadata": {
        "id": "Q6gqqGb2gUK2"
      }
    },
    {
      "cell_type": "code",
      "source": [
        "x = np.random.randint(0,2,6)\n",
        "print(\"First array:\")\n",
        "print(x)\n",
        "y = np.random.randint(0,2,6)\n",
        "print(\"Second array:\")\n",
        "print(y)\n",
        "print(\"Equality:\",np.allclose(x, y))"
      ],
      "metadata": {
        "colab": {
          "base_uri": "https://localhost:8080/"
        },
        "id": "5GdYhMtGgUes",
        "outputId": "2806c42c-d569-4fc8-9b2f-3b3348133c4f"
      },
      "execution_count": null,
      "outputs": [
        {
          "output_type": "stream",
          "name": "stdout",
          "text": [
            "First array:\n",
            "[1 1 0 1 1 1]\n",
            "Second array:\n",
            "[0 1 0 0 0 1]\n",
            "Equality: False\n"
          ]
        }
      ]
    },
    {
      "cell_type": "markdown",
      "source": [
        "10. Build a NumPy program to find the most frequent value in an array. \n",
        "\n",
        "\n"
      ],
      "metadata": {
        "id": "3_BDZ47Hg-BZ"
      }
    },
    {
      "cell_type": "code",
      "source": [
        "from scipy import stats as st\n",
        "arr = np.array([6, 9, 5, 1, 7, 5, 1, 0, 1, 5, 5, 0, 8, 9, 0, 7, 0, 7, 6, 5, 1, 1, 9, 5, 3, 8, 7, 9, 6, 3, 4, 5, 9, 7, 2, 7, 0, 2, 2, 6])\n",
        "st.mode(arr)"
      ],
      "metadata": {
        "colab": {
          "base_uri": "https://localhost:8080/"
        },
        "id": "qLJaWdCLg-PJ",
        "outputId": "64f11ce4-724a-4916-98eb-9ade5cf61e1a"
      },
      "execution_count": null,
      "outputs": [
        {
          "output_type": "execute_result",
          "data": {
            "text/plain": [
              "ModeResult(mode=array([5]), count=array([7]))"
            ]
          },
          "metadata": {},
          "execution_count": 79
        }
      ]
    }
  ]
}